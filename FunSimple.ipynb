{
 "cells": [
  {
   "cell_type": "code",
   "execution_count": 32,
   "id": "89f5800b",
   "metadata": {},
   "outputs": [
    {
     "name": "stdout",
     "output_type": "stream",
     "text": [
      "a= 1\n",
      "b= 2\n",
      "c= 3\n",
      "d= 4\n",
      "e= 5\n",
      "1.0\n",
      "8.0\n",
      "27.0\n",
      "64\n",
      "125\n"
     ]
    }
   ],
   "source": [
    "# 1-misol\n",
    "def powerA3(a,b,c,d,e):\n",
    "    a=a**3\n",
    "    b=b**3\n",
    "    c=c**3\n",
    "    d=d**3\n",
    "    e=e**3\n",
    "    return a,b,c,d,e\n",
    "a=float(input(\"a= \"))\n",
    "b=float(input(\"b= \"))\n",
    "c=float(input(\"c= \"))\n",
    "d=int(input(\"d= \"))\n",
    "e=int(input(\"e= \"))\n",
    "\n",
    "result=powerA3(a,b,c,d,e)\n",
    "print(result[0])\n",
    "print(result[1])\n",
    "print(result[2])\n",
    "print(result[3])\n",
    "print(result[4])"
   ]
  },
  {
   "cell_type": "code",
   "execution_count": null,
   "id": "31f9c9e6",
   "metadata": {},
   "outputs": [],
   "source": [
    "# 2-misol\n",
    "def powerA234(a):\n",
    "    a2=a**2\n",
    "    a3=a**3\n",
    "    a4=a**4\n",
    "    return a2,a3,a4\n",
    "a=float(input(\"a= \"))\n",
    "\n",
    "result=powerA234(a)\n",
    "print(result[0])\n",
    "print(result[1])\n",
    "print(result[2])"
   ]
  },
  {
   "cell_type": "code",
   "execution_count": 7,
   "id": "e1717da1",
   "metadata": {},
   "outputs": [
    {
     "name": "stdout",
     "output_type": "stream",
     "text": [
      "a= 1\n",
      "b= 2\n",
      "c= 3\n",
      "d= 4\n",
      "1.5\n",
      "2.0\n",
      "2.5\n",
      "1.4142135623730951\n",
      "1.7320508075688772\n",
      "2.0\n"
     ]
    }
   ],
   "source": [
    "# 3-misol\n",
    "import math\n",
    "def powerA3(a,b,c,d):\n",
    "    aba=(a+b)/2    #a va b arifmetik\n",
    "    aca=(a+c)/2    #a va c arifmetik\n",
    "    ada=(a+d)/2    #a va d arifmetik\n",
    "    abg=math.sqrt(a*b)    #a va b geometrik\n",
    "    acg=math.sqrt(a*c)    #a va c geometrik\n",
    "    adg=math.sqrt(a*d)    #a va d geometrik\n",
    "    return aba,aca,ada,abg,acg,adg\n",
    "a=float(input(\"a= \"))\n",
    "b=float(input(\"b= \"))\n",
    "c=float(input(\"c= \"))\n",
    "d=float(input(\"d= \"))\n",
    "result=powerA3(a,b,c,d)\n",
    "print(result[0])\n",
    "print(result[1])\n",
    "print(result[2])\n",
    "print(result[3])\n",
    "print(result[4])\n",
    "print(result[5])"
   ]
  },
  {
   "cell_type": "code",
   "execution_count": null,
   "id": "d18171f9",
   "metadata": {},
   "outputs": [],
   "source": [
    "# 4-misol\n",
    "import math\n",
    "def triangle(a):\n",
    "    s=a*a*math.sqrt(3)/4\n",
    "    p=3*a\n",
    "    return s, p\n",
    "a=float(input(\"a= \"))\n",
    "result=triangle(a)\n",
    "print(result[0])\n",
    "print(result[1])"
   ]
  },
  {
   "cell_type": "code",
   "execution_count": 6,
   "id": "4550a2a9",
   "metadata": {},
   "outputs": [
    {
     "name": "stdout",
     "output_type": "stream",
     "text": [
      "x1= 0\n",
      "y1= 0\n",
      "x2= 3\n",
      "y2= 3\n",
      "9\n",
      "12\n"
     ]
    }
   ],
   "source": [
    "# 5-misol\n",
    "def rectps(x1,y1,x2,y2):\n",
    "    a=abs(x1-x2)\n",
    "    b=abs(y1-y2)\n",
    "    s=a*b\n",
    "    p=2*(a+b)\n",
    "    return s,p\n",
    "x1=int(input(\"x1= \"))\n",
    "y1=int(input(\"y1= \"))\n",
    "x2=int(input(\"x2= \"))\n",
    "y2=int(input(\"y2= \"))\n",
    "result=rectps(x1,y1,x2,y2)\n",
    "print(result[0])\n",
    "print(result[1])"
   ]
  },
  {
   "cell_type": "code",
   "execution_count": null,
   "id": "61085ba5",
   "metadata": {},
   "outputs": [],
   "source": [
    "# 6-misol\n",
    "def digitcount(a):\n",
    "    c=0\n",
    "    s=0\n",
    "    while a>0:\n",
    "        b=a%10\n",
    "        a//=10\n",
    "        s+=b\n",
    "        c+=1\n",
    "    return s,c\n",
    "a=int(input(\"a= \"))\n",
    "result=digitcount(a)\n",
    "print(\"raqamlari yig'indisi: \",result[0])\n",
    "print(\"raqamlari soni: \",result[1])"
   ]
  },
  {
   "cell_type": "code",
   "execution_count": 18,
   "id": "508f200f",
   "metadata": {},
   "outputs": [
    {
     "name": "stdout",
     "output_type": "stream",
     "text": [
      "a= 564\n",
      "raqamlari teskarisi:  465\n"
     ]
    }
   ],
   "source": [
    "# 7-misol\n",
    "def teskari(a):\n",
    "    s=0\n",
    "    while a>0:\n",
    "        b=a%10\n",
    "        a//=10\n",
    "        s=s*10+b\n",
    "    return s\n",
    "a=int(input(\"a= \"))\n",
    "print(\"raqamlari teskarisi: \",teskari(a))"
   ]
  },
  {
   "cell_type": "code",
   "execution_count": 6,
   "id": "93b67740",
   "metadata": {},
   "outputs": [
    {
     "name": "stdout",
     "output_type": "stream",
     "text": [
      "a= 5\n",
      "b= 7\n",
      "raqamlari teskarisi:  57\n"
     ]
    }
   ],
   "source": [
    "# 8-misol\n",
    "def addrightdigit(a,b):\n",
    "    a=a*10+b\n",
    "    return a\n",
    "a=int(input(\"a= \"))\n",
    "b=int(input(\"b= \"))\n",
    "print(addrightdigit(a,b))"
   ]
  },
  {
   "cell_type": "code",
   "execution_count": 11,
   "id": "e21c88d6",
   "metadata": {},
   "outputs": [
    {
     "name": "stdout",
     "output_type": "stream",
     "text": [
      "a= 154\n",
      "b= 4\n",
      "raqamlari teskarisi:  4154\n"
     ]
    }
   ],
   "source": [
    "# 9-misol\n",
    "def addleftdigit(a,b):\n",
    "    c=0\n",
    "    q=a\n",
    "    while a>0:\n",
    "        a=a//10\n",
    "        c+=1\n",
    "    c=10**c\n",
    "    a=b*c+q\n",
    "    return a\n",
    "a=int(input(\"a= \"))\n",
    "b=int(input(\"b= \"))\n",
    "print(addleftdigit(a,b))"
   ]
  },
  {
   "cell_type": "code",
   "execution_count": 12,
   "id": "68870f23",
   "metadata": {},
   "outputs": [
    {
     "name": "stdout",
     "output_type": "stream",
     "text": [
      "a= 1\n",
      "b= 2\n",
      "(2, 1)\n"
     ]
    }
   ],
   "source": [
    "# 10-misol\n",
    "def almash(a,b):\n",
    "    c=a\n",
    "    a=b\n",
    "    b=c\n",
    "    return a,b\n",
    "a=int(input(\"a= \"))\n",
    "b=int(input(\"b= \"))\n",
    "print(almash(a,b))"
   ]
  },
  {
   "cell_type": "code",
   "execution_count": 13,
   "id": "f0ac683e",
   "metadata": {},
   "outputs": [
    {
     "name": "stdout",
     "output_type": "stream",
     "text": [
      "x= 12\n",
      "y= 2\n",
      "(2, 12)\n"
     ]
    }
   ],
   "source": [
    "# 11-misol\n",
    "def almash(x,y):\n",
    "    if x>y:\n",
    "        c=x\n",
    "        x=y\n",
    "        y=c\n",
    "    return x,y\n",
    "x=int(input(\"x= \"))\n",
    "y=int(input(\"y= \"))\n",
    "print(almash(x,y))"
   ]
  },
  {
   "cell_type": "code",
   "execution_count": 9,
   "id": "44b1c0d2",
   "metadata": {},
   "outputs": [
    {
     "name": "stdout",
     "output_type": "stream",
     "text": [
      "a= 1\n",
      "b= 5\n",
      "c= 2\n",
      "1 2 5\n"
     ]
    }
   ],
   "source": [
    "# 12-misol\n",
    "def sort(a,b,c):\n",
    "    d=[a,b,c]\n",
    "    d.sort()\n",
    "    a=d[0]\n",
    "    b=d[1]\n",
    "    c=d[2]\n",
    "    return a,b,c\n",
    "a=int(input(\"a= \"))\n",
    "b=int(input(\"b= \"))\n",
    "c=int(input(\"c= \"))\n",
    "result=sort(a,b,c)\n",
    "print(result[0],result[1],result[2])"
   ]
  },
  {
   "cell_type": "code",
   "execution_count": 10,
   "id": "73160b50",
   "metadata": {},
   "outputs": [
    {
     "name": "stdout",
     "output_type": "stream",
     "text": [
      "a= 1\n",
      "b= 5\n",
      "c= 2\n",
      "5 2 1\n"
     ]
    }
   ],
   "source": [
    "# 13-misol\n",
    "def sort(a,b,c):\n",
    "    d=[a,b,c]\n",
    "    d.sort()\n",
    "    a=d[2]\n",
    "    b=d[1]\n",
    "    c=d[0]\n",
    "    return a,b,c\n",
    "a=int(input(\"a= \"))\n",
    "b=int(input(\"b= \"))\n",
    "c=int(input(\"c= \"))\n",
    "result=sort(a,b,c)\n",
    "print(result[0],result[1],result[2])"
   ]
  },
  {
   "cell_type": "code",
   "execution_count": 11,
   "id": "e7cccddd",
   "metadata": {},
   "outputs": [
    {
     "name": "stdout",
     "output_type": "stream",
     "text": [
      "a= 1\n",
      "b= 2\n",
      "c= 3\n",
      "3 1 2\n"
     ]
    }
   ],
   "source": [
    "# 14-misol\n",
    "def sort(a,b,c):\n",
    "    d=c\n",
    "    c=b\n",
    "    b=a\n",
    "    a=d\n",
    "    return a,b,c\n",
    "a=int(input(\"a= \"))\n",
    "b=int(input(\"b= \"))\n",
    "c=int(input(\"c= \"))\n",
    "result=sort(a,b,c)\n",
    "print(result[0],result[1],result[2])"
   ]
  },
  {
   "cell_type": "code",
   "execution_count": null,
   "id": "acb5f044",
   "metadata": {},
   "outputs": [],
   "source": [
    "# 15-misol\n",
    "def sort(a,b,c):\n",
    "    d=a\n",
    "    a=b\n",
    "    b=c\n",
    "    c=d\n",
    "    return a,b,c\n",
    "a=int(input(\"a= \"))\n",
    "b=int(input(\"b= \"))\n",
    "c=int(input(\"c= \"))\n",
    "result=sort(a,b,c)\n",
    "print(result[0],result[1],result[2])"
   ]
  },
  {
   "cell_type": "code",
   "execution_count": 15,
   "id": "0f581bc0",
   "metadata": {},
   "outputs": [
    {
     "name": "stdout",
     "output_type": "stream",
     "text": [
      "a= 0\n",
      "0\n"
     ]
    }
   ],
   "source": [
    "# 16-misol\n",
    "def ishora(a):\n",
    "    if a>0:\n",
    "        return 1\n",
    "    elif a<0:\n",
    "        return -1\n",
    "    else:\n",
    "        return 0\n",
    "a=int(input(\"a= \"))\n",
    "print(ishora(a))"
   ]
  },
  {
   "cell_type": "code",
   "execution_count": 22,
   "id": "3c852767",
   "metadata": {},
   "outputs": [
    {
     "name": "stdout",
     "output_type": "stream",
     "text": [
      "a= 1\n",
      "b= 7\n",
      "c= 12\n",
      "(-3.0, -4.0)\n"
     ]
    }
   ],
   "source": [
    "# 17-misol\n",
    "import math\n",
    "def ishora(a,b,c):\n",
    "    d=b**2-4*a*c\n",
    "    if d<0:\n",
    "        return \"yechimga ega emas\"\n",
    "    elif d==0:\n",
    "        x=(-b)/(2*a)\n",
    "        return x\n",
    "    else:\n",
    "        x1=(-b+math.sqrt(d))/(2*a)\n",
    "        x2=(-b-math.sqrt(d))/(2*a)\n",
    "        return x1,x2\n",
    "a=int(input(\"a= \"))\n",
    "b=int(input(\"b= \"))\n",
    "c=int(input(\"c= \"))\n",
    "print(ishora(a,b,c))"
   ]
  },
  {
   "cell_type": "code",
   "execution_count": 26,
   "id": "d79b9363",
   "metadata": {},
   "outputs": [
    {
     "name": "stdout",
     "output_type": "stream",
     "text": [
      "r= 1\n",
      "3.1415\n"
     ]
    }
   ],
   "source": [
    "# 18-misol\n",
    "import math\n",
    "def yuza(r):\n",
    "    p=3.1415\n",
    "    s=p*r**2\n",
    "    return s\n",
    "r=int(input(\"r= \"))\n",
    "print(yuza(r))"
   ]
  },
  {
   "cell_type": "code",
   "execution_count": 27,
   "id": "4242119b",
   "metadata": {},
   "outputs": [
    {
     "name": "stdout",
     "output_type": "stream",
     "text": [
      "r1= 2\n",
      "r2= 3\n",
      "15.707500000000001\n"
     ]
    }
   ],
   "source": [
    "# 19-misol\n",
    "import math\n",
    "def ring(r1,r2):\n",
    "    p=3.1415\n",
    "    s1=p*r1**2\n",
    "    s2=p*r2**2\n",
    "    s=abs(s1-s2)\n",
    "    return s\n",
    "r1=int(input(\"r1= \"))\n",
    "r2=int(input(\"r2= \"))\n",
    "print(ring(r1,r2))"
   ]
  },
  {
   "cell_type": "code",
   "execution_count": 29,
   "id": "17e3404e",
   "metadata": {},
   "outputs": [
    {
     "name": "stdout",
     "output_type": "stream",
     "text": [
      "a= 3\n",
      "b= 4\n",
      "12.0\n"
     ]
    }
   ],
   "source": [
    "# 20-misol\n",
    "import math\n",
    "def ring(a,b):\n",
    "    c=math.sqrt(a**2+b**2)\n",
    "    p=a+b+c\n",
    "    return p\n",
    "a=int(input(\"a= \"))\n",
    "b=int(input(\"b= \"))\n",
    "print(ring(a,b))"
   ]
  },
  {
   "cell_type": "code",
   "execution_count": 30,
   "id": "69fffdc9",
   "metadata": {},
   "outputs": [
    {
     "name": "stdout",
     "output_type": "stream",
     "text": [
      "a= 1\n",
      "b= 3\n",
      "6\n"
     ]
    }
   ],
   "source": [
    "# 21-misol\n",
    "def sumab(a,b):\n",
    "    s=0\n",
    "    if a>b:\n",
    "        return 0\n",
    "    else:\n",
    "        for i in range(a,b+1):\n",
    "            s+=i\n",
    "    return s\n",
    "a=int(input(\"a= \"))\n",
    "b=int(input(\"b= \"))\n",
    "print(sumab(a,b))"
   ]
  },
  {
   "cell_type": "code",
   "execution_count": 33,
   "id": "9cb1c946",
   "metadata": {},
   "outputs": [
    {
     "name": "stdout",
     "output_type": "stream",
     "text": [
      "a= 5\n",
      "b= 5\n",
      "op= 5\n",
      "10\n"
     ]
    }
   ],
   "source": [
    "# 22-misol\n",
    "def sumab(a,b,op):\n",
    "    if op==1:\n",
    "        return a-b\n",
    "    elif op==2:\n",
    "        return a*b\n",
    "    elif op==3:\n",
    "        return a/b\n",
    "    else:\n",
    "        return a+b\n",
    "a=int(input(\"a= \"))\n",
    "b=int(input(\"b= \"))\n",
    "op=int(input(\"op= \"))\n",
    "print(sumab(a,b,op))"
   ]
  },
  {
   "cell_type": "code",
   "execution_count": 34,
   "id": "129ac8af",
   "metadata": {},
   "outputs": [
    {
     "name": "stdout",
     "output_type": "stream",
     "text": [
      "x= 1\n",
      "y= 1\n",
      "I\n"
     ]
    }
   ],
   "source": [
    "# 23-misol\n",
    "def sumab(x,y):\n",
    "    if x>0 and y>0:\n",
    "        return \"I\"\n",
    "    if x<0 and y>0:\n",
    "        return \"II\"\n",
    "    if x<0 and y<0:\n",
    "        return \"III\"\n",
    "    if x>0 and y<0:\n",
    "        return \"IV\"\n",
    "    else:\n",
    "        return \"chiziqda yotadi\"\n",
    "x=int(input(\"x= \"))\n",
    "y=int(input(\"y= \"))\n",
    "print(sumab(x,y))"
   ]
  },
  {
   "cell_type": "code",
   "execution_count": 39,
   "id": "7d63cfee",
   "metadata": {},
   "outputs": [
    {
     "name": "stdout",
     "output_type": "stream",
     "text": [
      "x= 6\n",
      "True\n"
     ]
    }
   ],
   "source": [
    "# 24-misol\n",
    "def sumab(x):\n",
    "    return x%2==0\n",
    "x=int(input(\"x= \"))\n",
    "print(sumab(x))"
   ]
  },
  {
   "cell_type": "code",
   "execution_count": 47,
   "id": "d226acd0",
   "metadata": {},
   "outputs": [
    {
     "name": "stdout",
     "output_type": "stream",
     "text": [
      "x= 25\n",
      "True\n"
     ]
    }
   ],
   "source": [
    "# 25-misol\n",
    "import math\n",
    "def sumab(x):\n",
    "    r=int(math.sqrt(x))\n",
    "    return r**2==x\n",
    "x=int(input(\"x= \"))\n",
    "print(sumab(x))"
   ]
  },
  {
   "cell_type": "code",
   "execution_count": 4,
   "id": "d2e05500",
   "metadata": {},
   "outputs": [
    {
     "name": "stdout",
     "output_type": "stream",
     "text": [
      "x= 625\n",
      "True\n"
     ]
    }
   ],
   "source": [
    "# 26-misol\n",
    "import math\n",
    "def sumab(x):\n",
    "    while x>5:\n",
    "        x/=5\n",
    "    return x==5\n",
    "x=int(input(\"x= \"))\n",
    "print(sumab(x))"
   ]
  },
  {
   "cell_type": "code",
   "execution_count": 5,
   "id": "7a72f452",
   "metadata": {},
   "outputs": [
    {
     "name": "stdout",
     "output_type": "stream",
     "text": [
      "k= 256\n",
      "n= 4\n",
      "True\n"
     ]
    }
   ],
   "source": [
    "# 27-misol\n",
    "import math\n",
    "def sumab(k,n):\n",
    "    while k>n:\n",
    "        k/=n\n",
    "    return k==n\n",
    "k=int(input(\"k= \"))\n",
    "n=int(input(\"n= \"))\n",
    "print(sumab(k,n))"
   ]
  },
  {
   "cell_type": "code",
   "execution_count": 15,
   "id": "bae15e7b",
   "metadata": {},
   "outputs": [
    {
     "name": "stdout",
     "output_type": "stream",
     "text": [
      "n= 23\n",
      "True\n"
     ]
    }
   ],
   "source": [
    "# 28-misol\n",
    "import math\n",
    "def sumab(n):\n",
    "    b=0\n",
    "    a=int(math.sqrt(n))\n",
    "    for i in range(2,a+1):\n",
    "        if n%i==0:\n",
    "            b+=1\n",
    "    return b==0\n",
    "n=int(input(\"n= \"))\n",
    "print(sumab(n))"
   ]
  },
  {
   "cell_type": "code",
   "execution_count": 19,
   "id": "2f3e93d3",
   "metadata": {},
   "outputs": [
    {
     "name": "stdout",
     "output_type": "stream",
     "text": [
      "x= 99\n",
      "2\n"
     ]
    }
   ],
   "source": [
    "# 29-misol\n",
    "import math\n",
    "def sumab(x):\n",
    "    b=0\n",
    "    while x>0:\n",
    "        x//=10\n",
    "        b+=1\n",
    "    return b\n",
    "x=int(input(\"x= \"))\n",
    "print(sumab(x))"
   ]
  },
  {
   "cell_type": "code",
   "execution_count": 2,
   "id": "2730c5d1",
   "metadata": {},
   "outputs": [
    {
     "name": "stdout",
     "output_type": "stream",
     "text": [
      "x= 15784\n",
      "n= 3\n",
      "7\n"
     ]
    }
   ],
   "source": [
    "# 30-misol\n",
    "import math\n",
    "def sumab(x,n):\n",
    "    for i in range(1,n):\n",
    "        x//=10\n",
    "    return x%10\n",
    "x=int(input(\"x= \"))\n",
    "n=int(input(\"n= \"))\n",
    "print(sumab(x,n))"
   ]
  },
  {
   "cell_type": "code",
   "execution_count": 16,
   "id": "847206b1",
   "metadata": {},
   "outputs": [
    {
     "name": "stdout",
     "output_type": "stream",
     "text": [
      "x= 165446\n",
      "6\n",
      "1\n",
      "\n",
      "4\n",
      "-9\n",
      "\n",
      "3\n",
      "81\n",
      "\n",
      "true\n"
     ]
    }
   ],
   "source": [
    "# 31-misol\n",
    "import math\n",
    "def sumab(x):\n",
    "    a=0\n",
    "    c=x\n",
    "    while c>0:\n",
    "        c//=10\n",
    "        a+=1\n",
    "    b=1\n",
    "    d=0\n",
    "    while a>b:\n",
    "#         if x%10 != x//(10**(a-1)):\n",
    "        print(x%10)\n",
    "        print(x//(10**(a-1)))\n",
    "        print()\n",
    "        x=x-(x//(10**(a-1)))*(10**a-1)\n",
    "        x//=10\n",
    "        a-=1\n",
    "        b+=1\n",
    "    if d==0:\n",
    "        return \"true\"\n",
    "    else:\n",
    "        return \"false\"\n",
    "x=int(input(\"x= \"))\n",
    "print(sumab(x))\n",
    "\n",
    "\n",
    "palindrom########"
   ]
  },
  {
   "cell_type": "code",
   "execution_count": 20,
   "id": "1fd4a7dd",
   "metadata": {},
   "outputs": [
    {
     "name": "stdout",
     "output_type": "stream",
     "text": [
      "x= 180\n",
      "3.1415\n"
     ]
    }
   ],
   "source": [
    "# 32-misol\n",
    "import math\n",
    "def sumab(x):\n",
    "    return x*(3.1416/180)\n",
    "x=int(input(\"x= \"))\n",
    "print(sumab(x))"
   ]
  },
  {
   "cell_type": "code",
   "execution_count": 25,
   "id": "6cd6eb3b",
   "metadata": {},
   "outputs": [
    {
     "name": "stdout",
     "output_type": "stream",
     "text": [
      "x= 2\n",
      "114.5912910618793\n"
     ]
    }
   ],
   "source": [
    "# 33-misol\n",
    "import math\n",
    "def sumab(x):\n",
    "    return x*(180/3.1416)\n",
    "x=float(input(\"x= \"))\n",
    "print(sumab(x))"
   ]
  },
  {
   "cell_type": "code",
   "execution_count": 28,
   "id": "945dd8e2",
   "metadata": {},
   "outputs": [
    {
     "name": "stdout",
     "output_type": "stream",
     "text": [
      "x= 4\n",
      "24\n"
     ]
    }
   ],
   "source": [
    "# 34-misol\n",
    "import math\n",
    "def sumab(x):\n",
    "    p=1\n",
    "    for i in range(1,x+1):\n",
    "        p=p*i\n",
    "    return p\n",
    "x=int(input(\"x= \"))\n",
    "print(sumab(x))"
   ]
  },
  {
   "cell_type": "code",
   "execution_count": 30,
   "id": "39824aa1",
   "metadata": {},
   "outputs": [
    {
     "name": "stdout",
     "output_type": "stream",
     "text": [
      "x= 3\n",
      "12\n"
     ]
    }
   ],
   "source": [
    "# 35-misol\n",
    "import math\n",
    "def sumab(x):\n",
    "    p=1\n",
    "    for i in range(1,x+1):\n",
    "        p=p*i\n",
    "    return 2*p\n",
    "x=int(input(\"x= \"))\n",
    "print(sumab(x))"
   ]
  },
  {
   "cell_type": "code",
   "execution_count": 36,
   "id": "731c12b9",
   "metadata": {},
   "outputs": [
    {
     "name": "stdout",
     "output_type": "stream",
     "text": [
      "n= 6\n",
      "8\n"
     ]
    }
   ],
   "source": [
    "# 36-misol\n",
    "import math\n",
    "def sumab(n):\n",
    "    a=0 #birinchi qiymat\n",
    "    b=1 #ikkinchi qiymat\n",
    "    if n==1:\n",
    "        return 0\n",
    "    elif n==2:\n",
    "        return 1\n",
    "    for i in range(1,n):\n",
    "        c=a+b\n",
    "        a=b\n",
    "        b=c\n",
    "    return b\n",
    "n=int(input(\"n= \"))\n",
    "print(sumab(n))"
   ]
  },
  {
   "cell_type": "code",
   "execution_count": 37,
   "id": "d96002c2",
   "metadata": {},
   "outputs": [
    {
     "name": "stdout",
     "output_type": "stream",
     "text": [
      "a= 2\n",
      "n= 5\n",
      "32\n"
     ]
    }
   ],
   "source": [
    "# 37-misol\n",
    "def sumab(a,n):\n",
    "    return a**n\n",
    "a=int(input(\"a= \"))\n",
    "n=int(input(\"n= \"))\n",
    "print(sumab(a,n))"
   ]
  },
  {
   "cell_type": "code",
   "execution_count": 39,
   "id": "337b1920",
   "metadata": {},
   "outputs": [
    {
     "name": "stdout",
     "output_type": "stream",
     "text": [
      "x= 2\n",
      "0.5\n"
     ]
    }
   ],
   "source": [
    "# 38-misol\n",
    "import math\n",
    "def sumab(x):\n",
    "    p=1\n",
    "    for i in range(1,x+1):\n",
    "        p=p*i\n",
    "    return 1/p\n",
    "x=int(input(\"x= \"))\n",
    "print(sumab(x))"
   ]
  },
  {
   "cell_type": "code",
   "execution_count": 2,
   "id": "d96d83d1",
   "metadata": {},
   "outputs": [
    {
     "name": "stdout",
     "output_type": "stream",
     "text": [
      "5\n",
      "5\n",
      "91.41666666666667\n"
     ]
    }
   ],
   "source": [
    "# 40-misol\n",
    "import math\n",
    "def sumab(x,n):\n",
    "    s=1\n",
    "    p=1\n",
    "    for i in range(1,n+1):\n",
    "        p=p*i\n",
    "        s=s+(pow(x,i))/p\n",
    "    return s\n",
    "n=int(input())\n",
    "x=float(input())\n",
    "print(sumab(x,n))"
   ]
  },
  {
   "cell_type": "code",
   "execution_count": 7,
   "id": "03658344",
   "metadata": {},
   "outputs": [
    {
     "name": "stdout",
     "output_type": "stream",
     "text": [
      "5\n",
      "5\n",
      "-5.813733190035265\n"
     ]
    }
   ],
   "source": [
    "# 41-misol\n",
    "import math\n",
    "def sumab(x,n):\n",
    "    s=0\n",
    "    for i in range(1,n+1):\n",
    "        p=1\n",
    "        for j in range(1,2*i+1):\n",
    "            p=p*j\n",
    "        s=s+(pow(-1,i)*pow(x,2*i+1))/p\n",
    "    return s\n",
    "n=int(input())\n",
    "x=float(input())\n",
    "print(sumab(x,n))"
   ]
  },
  {
   "cell_type": "code",
   "execution_count": 8,
   "id": "1b95bbcd",
   "metadata": {},
   "outputs": [
    {
     "name": "stdout",
     "output_type": "stream",
     "text": [
      "5\n",
      "5\n",
      "0.5518490961199234\n",
      "None\n"
     ]
    }
   ],
   "source": [
    "# 42-misol\n",
    "def sumab(x,n):\n",
    "    s=1\n",
    "    for i in range(1,n+1):\n",
    "        p=1\n",
    "        for j in range(1,2*i):\n",
    "            p=p*j\n",
    "        s=s+(pow(-1,i)*pow(x,2*i))/p\n",
    "    print(s)\n",
    "n=int(input())\n",
    "x=float(input())\n",
    "print(sumab(x,n))"
   ]
  },
  {
   "cell_type": "code",
   "execution_count": 10,
   "id": "2f140702",
   "metadata": {},
   "outputs": [
    {
     "name": "stdout",
     "output_type": "stream",
     "text": [
      "5\n",
      "5\n",
      "-2105.25\n"
     ]
    }
   ],
   "source": [
    "# 43-misol\n",
    "def sumab(x,n):\n",
    "    s=0\n",
    "    for i in range(1,n+1):\n",
    "        s=s+(pow(-1,i)*pow(x,i+1))/(i+1)\n",
    "    return s\n",
    "n=int(input())\n",
    "x=float(input())\n",
    "print(sumab(x,n))"
   ]
  },
  {
   "cell_type": "code",
   "execution_count": 12,
   "id": "88b8331b",
   "metadata": {},
   "outputs": [
    {
     "name": "stdout",
     "output_type": "stream",
     "text": [
      "5\n",
      "5\n",
      "-4232482.946608946\n"
     ]
    }
   ],
   "source": [
    "# 44-misol\n",
    "def sumab(x,n):\n",
    "    s=0\n",
    "    for i in range(1,n+1):\n",
    "        s=s+(pow(-1,i)*pow(x,2*i+1))/(2*i+1)\n",
    "    return s\n",
    "n=int(input())\n",
    "x=float(input())\n",
    "print(sumab(x,n))"
   ]
  },
  {
   "cell_type": "code",
   "execution_count": 13,
   "id": "b1884694",
   "metadata": {},
   "outputs": [
    {
     "name": "stdout",
     "output_type": "stream",
     "text": [
      "5\n",
      "5\n",
      "5\n",
      "652.0416666666667\n"
     ]
    }
   ],
   "source": [
    "# 45-misol\n",
    "def sumab(x,n,a):\n",
    "    s=1\n",
    "    for i in range(1,n+1):\n",
    "        p=1\n",
    "        for j in range(1,i):\n",
    "            p=p*j\n",
    "        s=s+(a-i+1)*pow(x,i)/p\n",
    "    return s\n",
    "a=int(input())\n",
    "n=int(input())\n",
    "x=float(input())\n",
    "print(sumab(x,n,a))"
   ]
  },
  {
   "cell_type": "code",
   "execution_count": 20,
   "id": "a9c88c84",
   "metadata": {},
   "outputs": [
    {
     "name": "stdout",
     "output_type": "stream",
     "text": [
      "96\n",
      "6\n",
      "16.0\n",
      "1.0\n"
     ]
    }
   ],
   "source": [
    "# 46-misol\n",
    "def sumab(a,b):\n",
    "    while a!=b:\n",
    "        if a>b:\n",
    "            a=a-b\n",
    "        elif b>a:\n",
    "            b=b-a\n",
    "    return a\n",
    "a=int(input())\n",
    "b=float(input())\n",
    "print(sumab(a,b))"
   ]
  },
  {
   "cell_type": "code",
   "execution_count": 21,
   "id": "a14beb46",
   "metadata": {},
   "outputs": [
    {
     "name": "stdout",
     "output_type": "stream",
     "text": [
      "100\n",
      "10\n",
      "10.0\n",
      "1.0\n"
     ]
    }
   ],
   "source": [
    "# 47-misol\n",
    "def sumab(a,b):\n",
    "    r=a\n",
    "    q=b\n",
    "    while a!=b:\n",
    "        if a>b:\n",
    "            a=a-b\n",
    "        elif b>a:\n",
    "            b=b-a\n",
    "    return r/a,q/a\n",
    "a=int(input())\n",
    "b=float(input())\n",
    "result = sumab(a,b)\n",
    "print(result[0])\n",
    "print(result[1])"
   ]
  },
  {
   "cell_type": "code",
   "execution_count": 40,
   "id": "f7462e26",
   "metadata": {},
   "outputs": [
    {
     "ename": "KeyboardInterrupt",
     "evalue": "Interrupted by user",
     "output_type": "error",
     "traceback": [
      "\u001b[1;31m---------------------------------------------------------------------------\u001b[0m",
      "\u001b[1;31mKeyboardInterrupt\u001b[0m                         Traceback (most recent call last)",
      "Cell \u001b[1;32mIn[40], line 11\u001b[0m\n\u001b[0;32m      9\u001b[0m             b\u001b[38;5;241m=\u001b[39mb\u001b[38;5;241m-\u001b[39ma\n\u001b[0;32m     10\u001b[0m     \u001b[38;5;28;01mreturn\u001b[39;00m \u001b[38;5;28mint\u001b[39m(r\u001b[38;5;241m*\u001b[39mq\u001b[38;5;241m/\u001b[39ma)\n\u001b[1;32m---> 11\u001b[0m a\u001b[38;5;241m=\u001b[39m\u001b[38;5;28mint\u001b[39m(\u001b[38;5;28minput\u001b[39m())\n\u001b[0;32m     12\u001b[0m b\u001b[38;5;241m=\u001b[39m\u001b[38;5;28mint\u001b[39m(\u001b[38;5;28minput\u001b[39m())\n\u001b[0;32m     13\u001b[0m \u001b[38;5;28mprint\u001b[39m(sumab(a,b))\n",
      "File \u001b[1;32mC:\\ProgramData\\anaconda3\\Lib\\site-packages\\ipykernel\\kernelbase.py:1202\u001b[0m, in \u001b[0;36mKernel.raw_input\u001b[1;34m(self, prompt)\u001b[0m\n\u001b[0;32m   1200\u001b[0m     msg \u001b[38;5;241m=\u001b[39m \u001b[38;5;124m\"\u001b[39m\u001b[38;5;124mraw_input was called, but this frontend does not support input requests.\u001b[39m\u001b[38;5;124m\"\u001b[39m\n\u001b[0;32m   1201\u001b[0m     \u001b[38;5;28;01mraise\u001b[39;00m StdinNotImplementedError(msg)\n\u001b[1;32m-> 1202\u001b[0m \u001b[38;5;28;01mreturn\u001b[39;00m \u001b[38;5;28mself\u001b[39m\u001b[38;5;241m.\u001b[39m_input_request(\n\u001b[0;32m   1203\u001b[0m     \u001b[38;5;28mstr\u001b[39m(prompt),\n\u001b[0;32m   1204\u001b[0m     \u001b[38;5;28mself\u001b[39m\u001b[38;5;241m.\u001b[39m_parent_ident[\u001b[38;5;124m\"\u001b[39m\u001b[38;5;124mshell\u001b[39m\u001b[38;5;124m\"\u001b[39m],\n\u001b[0;32m   1205\u001b[0m     \u001b[38;5;28mself\u001b[39m\u001b[38;5;241m.\u001b[39mget_parent(\u001b[38;5;124m\"\u001b[39m\u001b[38;5;124mshell\u001b[39m\u001b[38;5;124m\"\u001b[39m),\n\u001b[0;32m   1206\u001b[0m     password\u001b[38;5;241m=\u001b[39m\u001b[38;5;28;01mFalse\u001b[39;00m,\n\u001b[0;32m   1207\u001b[0m )\n",
      "File \u001b[1;32mC:\\ProgramData\\anaconda3\\Lib\\site-packages\\ipykernel\\kernelbase.py:1245\u001b[0m, in \u001b[0;36mKernel._input_request\u001b[1;34m(self, prompt, ident, parent, password)\u001b[0m\n\u001b[0;32m   1242\u001b[0m \u001b[38;5;28;01mexcept\u001b[39;00m \u001b[38;5;167;01mKeyboardInterrupt\u001b[39;00m:\n\u001b[0;32m   1243\u001b[0m     \u001b[38;5;66;03m# re-raise KeyboardInterrupt, to truncate traceback\u001b[39;00m\n\u001b[0;32m   1244\u001b[0m     msg \u001b[38;5;241m=\u001b[39m \u001b[38;5;124m\"\u001b[39m\u001b[38;5;124mInterrupted by user\u001b[39m\u001b[38;5;124m\"\u001b[39m\n\u001b[1;32m-> 1245\u001b[0m     \u001b[38;5;28;01mraise\u001b[39;00m \u001b[38;5;167;01mKeyboardInterrupt\u001b[39;00m(msg) \u001b[38;5;28;01mfrom\u001b[39;00m \u001b[38;5;28;01mNone\u001b[39;00m\n\u001b[0;32m   1246\u001b[0m \u001b[38;5;28;01mexcept\u001b[39;00m \u001b[38;5;167;01mException\u001b[39;00m:\n\u001b[0;32m   1247\u001b[0m     \u001b[38;5;28mself\u001b[39m\u001b[38;5;241m.\u001b[39mlog\u001b[38;5;241m.\u001b[39mwarning(\u001b[38;5;124m\"\u001b[39m\u001b[38;5;124mInvalid Message:\u001b[39m\u001b[38;5;124m\"\u001b[39m, exc_info\u001b[38;5;241m=\u001b[39m\u001b[38;5;28;01mTrue\u001b[39;00m)\n",
      "\u001b[1;31mKeyboardInterrupt\u001b[0m: Interrupted by user"
     ]
    }
   ],
   "source": [
    "# 48-misol\n",
    "def sumab(a,b):\n",
    "    r=a\n",
    "    q=b\n",
    "    while a!=b:\n",
    "        if a>b:\n",
    "            a=a-b\n",
    "        elif b>a:\n",
    "            b=b-a\n",
    "    return int(r*q/a)\n",
    "a=int(input())\n",
    "b=int(input())\n",
    "print(sumab(a,b))"
   ]
  },
  {
   "cell_type": "code",
   "execution_count": 41,
   "id": "cbb2c3fa",
   "metadata": {},
   "outputs": [
    {
     "name": "stdout",
     "output_type": "stream",
     "text": [
      "96\n",
      "32\n",
      "24\n",
      "8\n"
     ]
    }
   ],
   "source": [
    "# 49-misol\n",
    "def sumab(a,b,c):\n",
    "    while a!=b:\n",
    "        if a>b:\n",
    "            a=a-b\n",
    "        elif b>a:\n",
    "            b=b-a\n",
    "    while a!=c:\n",
    "        if a>c:\n",
    "            a=a-c\n",
    "        elif a<c:\n",
    "            c=c-a\n",
    "    return a\n",
    "a=int(input())\n",
    "b=int(input())\n",
    "c=int(input())\n",
    "print(sumab(a,b,c))"
   ]
  },
  {
   "cell_type": "code",
   "execution_count": 47,
   "id": "1f431b50",
   "metadata": {},
   "outputs": [
    {
     "name": "stdout",
     "output_type": "stream",
     "text": [
      "360\n",
      "0:6:0\n"
     ]
    }
   ],
   "source": [
    "# 50-misol\n",
    "def sumab(s):\n",
    "    m=0\n",
    "    h=0\n",
    "    if s>=60:\n",
    "        m=s//60\n",
    "        s=s%60\n",
    "        if m>=60:\n",
    "            h=m//60\n",
    "            m=m%60\n",
    "    return h,m,s\n",
    "a=int(input())\n",
    "result=sumab(a)\n",
    "print(f\"{result[0]}:{result[1]}:{result[2]}\")"
   ]
  },
  {
   "cell_type": "code",
   "execution_count": 50,
   "id": "61152298",
   "metadata": {},
   "outputs": [
    {
     "name": "stdout",
     "output_type": "stream",
     "text": [
      "1\n",
      "2\n",
      "3\n",
      "3600\n",
      "2:2:3\n"
     ]
    }
   ],
   "source": [
    "# 51-misol\n",
    "def sumab(h,m,s,t):\n",
    "    s=h*3600+m*60+s+t\n",
    "    m=0\n",
    "    h=0\n",
    "    if s>=60:\n",
    "        m=s//60\n",
    "        s=s%60\n",
    "        if m>=60:\n",
    "            h=m//60\n",
    "            m=m%60\n",
    "    return h,m,s\n",
    "h=int(input())\n",
    "m=int(input())\n",
    "s=int(input())\n",
    "t=int(input())\n",
    "result=sumab(h,m,s,t)\n",
    "print(f\"{result[0]}:{result[1]}:{result[2]}\")"
   ]
  },
  {
   "cell_type": "code",
   "execution_count": 55,
   "id": "df3855e5",
   "metadata": {},
   "outputs": [
    {
     "name": "stdout",
     "output_type": "stream",
     "text": [
      "2021\n",
      "False\n"
     ]
    }
   ],
   "source": [
    "# 52-misol\n",
    "def sumab(y):\n",
    "    return y%4==0\n",
    "y=int(input())\n",
    "print(sumab(y))"
   ]
  },
  {
   "cell_type": "code",
   "execution_count": 4,
   "id": "e37f57ce",
   "metadata": {},
   "outputs": [
    {
     "name": "stdout",
     "output_type": "stream",
     "text": [
      "3\n",
      "2019\n",
      "31\n"
     ]
    }
   ],
   "source": [
    "# 53-misol\n",
    "def sumab(m,y):\n",
    "    if m==1:\n",
    "        return 31\n",
    "    if m==2:\n",
    "        if y%4==0:\n",
    "            return 29\n",
    "        else:\n",
    "            return 28\n",
    "    if m==3:\n",
    "        return 31\n",
    "    if m==4:\n",
    "        return 30\n",
    "    if m==5:\n",
    "        return 31\n",
    "    if m==6:\n",
    "        return 30\n",
    "    if m==7:\n",
    "        return 31\n",
    "    if m==8:\n",
    "        return 31\n",
    "    if m==9:\n",
    "        return 30\n",
    "    if m==10:\n",
    "        return 31\n",
    "    if m==11:\n",
    "        return 30\n",
    "    if m==12:\n",
    "        return 31\n",
    "m=int(input())\n",
    "y=int(input())\n",
    "print(sumab(m,y))"
   ]
  },
  {
   "cell_type": "code",
   "execution_count": 6,
   "id": "86c5bf11",
   "metadata": {},
   "outputs": [
    {
     "name": "stdout",
     "output_type": "stream",
     "text": [
      "1\n",
      "3\n",
      "1996\n",
      "29.2.1996\n"
     ]
    }
   ],
   "source": [
    "# 54-misol\n",
    "def sumab(d,m,y):\n",
    "    if m==1:\n",
    "        if d==1:\n",
    "            d=31\n",
    "            m=12\n",
    "            y=y-1\n",
    "        else:\n",
    "            d=d-1\n",
    "        return d,m,y\n",
    "    if m==2:\n",
    "        if d==1:\n",
    "            d=31\n",
    "            m=1\n",
    "        else:\n",
    "            d=d-1\n",
    "        return d,m,y\n",
    "    if m==3:\n",
    "        if d==1:\n",
    "            if y%4==0:\n",
    "                d=29\n",
    "            else:\n",
    "                d=28\n",
    "            m=2\n",
    "        else:\n",
    "            d=d-1\n",
    "        return d,m,y\n",
    "    if m==4:\n",
    "        if d==1:\n",
    "            d=31\n",
    "            m=3\n",
    "        else:\n",
    "            d=d-1\n",
    "        return d,m,y\n",
    "    if m==5:\n",
    "        if d==1:\n",
    "            d=30\n",
    "            m=4\n",
    "        else:\n",
    "            d=d-1\n",
    "        return d,m,y\n",
    "    if m==6:\n",
    "        if d==1:\n",
    "            d=31\n",
    "            m=5\n",
    "        else:\n",
    "            d=d-1\n",
    "        return d,m,y\n",
    "    if m==7:\n",
    "        if d==1:\n",
    "            d=30\n",
    "            m=6\n",
    "        else:\n",
    "            d=d-1\n",
    "        return d,m,y\n",
    "    if m==8:\n",
    "        if d==1:\n",
    "            d=31\n",
    "            m=7\n",
    "        else:\n",
    "            d=d-1\n",
    "        return d,m,y\n",
    "    if m==9:\n",
    "        if d==1:\n",
    "            d=31\n",
    "            m=8\n",
    "        else:\n",
    "            d=d-1\n",
    "        return d,m,y\n",
    "    if m==10:\n",
    "        if d==1:\n",
    "            d=30\n",
    "            m=9\n",
    "        else:\n",
    "            d=d-1\n",
    "        return d,m,y\n",
    "    if m==11:\n",
    "        if d==1:\n",
    "            d=31\n",
    "            m=10\n",
    "        else:\n",
    "            d=d-1\n",
    "        return d,m,y\n",
    "    if m==12:\n",
    "        if d==1:\n",
    "            d=30\n",
    "            m=11\n",
    "        else:\n",
    "            d=d-1\n",
    "        return d,m,y\n",
    "d=int(input())\n",
    "m=int(input())\n",
    "y=int(input())\n",
    "r=sumab(d,m,y)\n",
    "print(f\"{r[0]}.{r[1]}.{r[2]}\")"
   ]
  },
  {
   "cell_type": "code",
   "execution_count": 11,
   "id": "09030825",
   "metadata": {},
   "outputs": [
    {
     "name": "stdout",
     "output_type": "stream",
     "text": [
      "29\n",
      "2\n",
      "2024\n",
      "1.3.2024\n"
     ]
    }
   ],
   "source": [
    "# 55-misol\n",
    "def sumab(d,m,y):\n",
    "    if m==1:\n",
    "        if d==31:\n",
    "            d=1\n",
    "            m=2\n",
    "        else:\n",
    "            d=d+1\n",
    "        return d,m,y\n",
    "    if m==2:\n",
    "        if y%4==0:\n",
    "            if d==29:\n",
    "                m=3\n",
    "                d=1\n",
    "            else:\n",
    "                d=d+1\n",
    "        else:\n",
    "            if d==28:\n",
    "                m=3\n",
    "                d=1\n",
    "            else:\n",
    "                d=d+1\n",
    "        return d,m,y\n",
    "    if m==3:\n",
    "        if d==31:\n",
    "            d=1\n",
    "            m=4\n",
    "        else:\n",
    "            d=d+1\n",
    "        return d,m,y\n",
    "    if m==4:\n",
    "        if d==30:\n",
    "            d=1\n",
    "            m=5\n",
    "        else:\n",
    "            d=d+1\n",
    "        return d,m,y\n",
    "    if m==5:\n",
    "        if d==31:\n",
    "            d=1\n",
    "            m=6\n",
    "        else:\n",
    "            d=d+1\n",
    "        return d,m,y\n",
    "    if m==6:\n",
    "        if d==30:\n",
    "            d=1\n",
    "            m=7\n",
    "        else:\n",
    "            d=d+1\n",
    "        return d,m,y\n",
    "    if m==7:\n",
    "        if d==31:\n",
    "            d=1\n",
    "            m=8\n",
    "        else:\n",
    "            d=d+1\n",
    "        return d,m,y\n",
    "    if m==8:\n",
    "        if d==31:\n",
    "            d=1\n",
    "            m=9\n",
    "        else:\n",
    "            d=d+1\n",
    "        return d,m,y\n",
    "    if m==9:\n",
    "        if d==30:\n",
    "            d=1\n",
    "            m=10\n",
    "        else:\n",
    "            d=d+1\n",
    "        return d,m,y\n",
    "    if m==10:\n",
    "        if d==31:\n",
    "            d=1\n",
    "            m=11\n",
    "        else:\n",
    "            d=d+1\n",
    "        return d,m,y\n",
    "    if m==11:\n",
    "        if d==30:\n",
    "            d=1\n",
    "            m=12\n",
    "        else:\n",
    "            d=d+1\n",
    "        return d,m,y\n",
    "    if m==12:\n",
    "        if d==31:\n",
    "            d=1\n",
    "            m=1\n",
    "            y=y+1\n",
    "        else:\n",
    "            d=d+1\n",
    "        return d,m,y\n",
    "d=int(input())\n",
    "m=int(input())\n",
    "y=int(input())\n",
    "r=sumab(d,m,y)\n",
    "print(f\"{r[0]}.{r[1]}.{r[2]}\")"
   ]
  },
  {
   "cell_type": "code",
   "execution_count": 13,
   "id": "339f9700",
   "metadata": {},
   "outputs": [
    {
     "name": "stdout",
     "output_type": "stream",
     "text": [
      "0\n",
      "0\n",
      "3\n",
      "4\n",
      "5.0\n"
     ]
    }
   ],
   "source": [
    "# 56-misol\n",
    "def sumab(x1,y1,x2,y2):\n",
    "    import math\n",
    "    a=math.sqrt((x1-x2)**2+(y1-y2)**2)\n",
    "    return a\n",
    "x1=int(input())\n",
    "y1=int(input())\n",
    "x2=int(input())\n",
    "y2=int(input())\n",
    "print(sumab(x1,y1,x2,y2))"
   ]
  },
  {
   "cell_type": "code",
   "execution_count": 15,
   "id": "06942e1c",
   "metadata": {},
   "outputs": [
    {
     "name": "stdout",
     "output_type": "stream",
     "text": [
      "0\n",
      "0\n",
      "0\n",
      "3\n",
      "4\n",
      "0\n",
      "6.0\n"
     ]
    }
   ],
   "source": [
    "# 57-misol\n",
    "def sumab(x1,y1,x2,y2,x3,y3):\n",
    "    import math\n",
    "    a=math.sqrt((x1-x2)**2+(y1-y2)**2)\n",
    "    b=math.sqrt((x1-x3)**2+(y1-y3)**2)\n",
    "    c=math.sqrt((x3-x2)**2+(y3-y2)**2)\n",
    "    p=(a+b+c)/2\n",
    "    s=math.sqrt(p*(p-a)*(p-b)*(p-c))\n",
    "    return s\n",
    "x1=int(input())\n",
    "y1=int(input())\n",
    "x2=int(input())\n",
    "y2=int(input())\n",
    "x3=int(input())\n",
    "y3=int(input())\n",
    "print(sumab(x1,y1,x2,y2,x3,y3))"
   ]
  },
  {
   "cell_type": "code",
   "execution_count": 16,
   "id": "a131b95e",
   "metadata": {},
   "outputs": [
    {
     "name": "stdout",
     "output_type": "stream",
     "text": [
      "0\n",
      "0\n",
      "0\n",
      "0\n",
      "0\n",
      "0\n",
      "0.0\n"
     ]
    }
   ],
   "source": [
    "# 58-misol\n",
    "def sumab(x1,y1,x2,y2,x3,y3):\n",
    "    import math\n",
    "    a=math.sqrt((x1-x2)**2+(y1-y2)**2)\n",
    "    b=math.sqrt((x1-x3)**2+(y1-y3)**2)\n",
    "    c=math.sqrt((x3-x2)**2+(y3-y2)**2)\n",
    "    p=(a+b+c)/2\n",
    "    s=math.sqrt(p*(p-a)*(p-b)*(p-c))\n",
    "    return s\n",
    "x1=int(input())\n",
    "y1=int(input())\n",
    "x2=int(input())\n",
    "y2=int(input())\n",
    "x3=int(input())\n",
    "y3=int(input())\n",
    "print(sumab(x1,y1,x2,y2,x3,y3))"
   ]
  },
  {
   "cell_type": "code",
   "execution_count": null,
   "id": "8ae540d4",
   "metadata": {},
   "outputs": [],
   "source": [
    "# 59-misol\n",
    "#shart tushunarsiz\n",
    "def sumab(x1,y1,x2,y2,x3,y3):\n",
    "    import math\n",
    "    a=math.sqrt((x1-x2)**2+(y1-y2)**2)\n",
    "    b=math.sqrt((x1-x3)**2+(y1-y3)**2)\n",
    "    c=math.sqrt((x3-x2)**2+(y3-y2)**2)\n",
    "    p=(a+b+c)/2\n",
    "    s=math.sqrt(p*(p-a)*(p-b)*(p-c))\n",
    "    return s\n",
    "x1=int(input())\n",
    "y1=int(input())\n",
    "x2=int(input())\n",
    "y2=int(input())\n",
    "x3=int(input())\n",
    "y3=int(input())\n",
    "print(sumab(x1,y1,x2,y2,x3,y3))"
   ]
  },
  {
   "cell_type": "code",
   "execution_count": null,
   "id": "df733607",
   "metadata": {},
   "outputs": [],
   "source": [
    "# 60-misol\n",
    "#shart tushunarsiz\n",
    "def sumab(x1,y1,x2,y2,x3,y3):\n",
    "    import math\n",
    "    a=math.sqrt((x1-x2)**2+(y1-y2)**2)\n",
    "    b=math.sqrt((x1-x3)**2+(y1-y3)**2)\n",
    "    c=math.sqrt((x3-x2)**2+(y3-y2)**2)\n",
    "    p=(a+b+c)/2\n",
    "    s=math.sqrt(p*(p-a)*(p-b)*(p-c))\n",
    "    return s\n",
    "x1=int(input())\n",
    "y1=int(input())\n",
    "x2=int(input())\n",
    "y2=int(input())\n",
    "x3=int(input())\n",
    "y3=int(input())\n",
    "print(sumab(x1,y1,x2,y2,x3,y3))"
   ]
  }
 ],
 "metadata": {
  "kernelspec": {
   "display_name": "Python 3 (ipykernel)",
   "language": "python",
   "name": "python3"
  },
  "language_info": {
   "codemirror_mode": {
    "name": "ipython",
    "version": 3
   },
   "file_extension": ".py",
   "mimetype": "text/x-python",
   "name": "python",
   "nbconvert_exporter": "python",
   "pygments_lexer": "ipython3",
   "version": "3.11.5"
  }
 },
 "nbformat": 4,
 "nbformat_minor": 5
}
